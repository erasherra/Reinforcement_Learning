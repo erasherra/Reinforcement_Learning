{
 "cells": [
  {
   "cell_type": "markdown",
   "metadata": {},
   "source": [
    "# TX00DQ05-3001 Reinforcement Learning, exercises 1"
   ]
  },
  {
   "cell_type": "code",
   "execution_count": 1,
   "metadata": {},
   "outputs": [],
   "source": [
    "# import numpy and other useful packages\n",
    "import numpy as np\n",
    "import numpy.linalg as LA"
   ]
  },
  {
   "cell_type": "markdown",
   "metadata": {},
   "source": [
    "## Weather example\n",
    "\n",
    "P is the transition matrix and t0 weather on day 0"
   ]
  },
  {
   "cell_type": "code",
   "execution_count": 2,
   "metadata": {},
   "outputs": [
    {
     "name": "stdout",
     "output_type": "stream",
     "text": [
      "[0.6 0.4]\n",
      "[0.36 0.64]\n",
      "[0.36 0.64]\n",
      "[0.42852649 0.57147351]\n",
      "[0.42857143 0.57142857]\n",
      "[0.42857143 0.57142857]\n"
     ]
    }
   ],
   "source": [
    "P = np.array(([0.2, 0.8], [0.6, 0.4]))\n",
    "t0 = np.array([0.0, 1.0])\n",
    "\n",
    "t1 = np.dot(t0, P)\n",
    "print(t1)\n",
    "t2 = np.dot(t1, P)\n",
    "print(t2)\n",
    "print(np.dot(t0, LA.matrix_power(P, 2)))\n",
    "print(np.dot(t0, LA.matrix_power(P, 10)))\n",
    "print(np.dot(t0, LA.matrix_power(P, 30)))\n",
    "print(np.dot(t0, LA.matrix_power(P, 50)))"
   ]
  },
  {
   "cell_type": "markdown",
   "metadata": {},
   "source": [
    "## Exercise 1\n",
    "\n",
    "Check some matrix algebra identities with numpy.\n",
    "\n",
    "* A + B = B + A\n",
    "* cA + cB = c(A + B) where c is scalar\n",
    "* if shape of A is (x,y), shape of A.T (transpose) is (y,x) \n",
    "* if v is vector of shape (x,), then v dot A has shape (y,)\n",
    "* verify that shape of A.T dot B is (y, y) and shape of A dot B.T is (x, x)"
   ]
  },
  {
   "cell_type": "code",
   "execution_count": 48,
   "metadata": {},
   "outputs": [
    {
     "name": "stdout",
     "output_type": "stream",
     "text": [
      "[[0 0 0]\n",
      " [0 0 0]\n",
      " [0 0 0]\n",
      " [0 0 0]]\n",
      "[[0 0 0]\n",
      " [0 0 0]\n",
      " [0 0 0]\n",
      " [0 0 0]]\n",
      "(4, 3)\n",
      "(3, 4)\n",
      "(4,)\n",
      "(3,)\n",
      "(3, 3)\n",
      "(4, 4)\n"
     ]
    }
   ],
   "source": [
    "A = np.array(([1, 2, 3], [2, 0 ,2], [3, 0, 1], [4, 1 ,0]))\n",
    "B = np.array(([0, 1, 2], [2, 1, 1], [2, 1, 0], [1, 2, 3]))\n",
    "\n",
    "# YOUR CODE HERE\n"
   ]
  },
  {
   "cell_type": "code",
   "execution_count": 67,
   "metadata": {},
   "outputs": [
    {
     "name": "stdout",
     "output_type": "stream",
     "text": [
      "[[0 0 0]\n",
      " [0 0 0]\n",
      " [0 0 0]\n",
      " [0 0 0]]\n",
      "\n",
      "[[0 0 0]\n",
      " [0 0 0]\n",
      " [0 0 0]\n",
      " [0 0 0]]\n",
      "\n",
      "(4, 3)  transpose is (3, 4)\n",
      "\n",
      "if v is vector of shape  (4,) , then v dot A has shape  (3,)\n",
      "\n",
      "(3, 3)\n",
      "(4, 4)\n"
     ]
    }
   ],
   "source": [
    "A = np.array(([1, 2, 3], [2, 0 ,2], [3, 0, 1], [4, 1 ,0]))\n",
    "B = np.array(([0, 1, 2], [2, 1, 1], [2, 1, 0], [1, 2, 3]))\n",
    "c = 3\n",
    "print((A+B)-(B+A))\n",
    "print()\n",
    "print((c*A+c*B)-c*(A+B))\n",
    "print()\n",
    "print(A.shape, \" transpose is\",A.T.shape)\n",
    "print()\n",
    "v=A[0:,0]\n",
    "print(\"if v is vector of shape \",v.shape,\", then v dot A has shape \",v.dot(A).shape)\n",
    "print()\n",
    "print(A.T.dot(B).shape)\n",
    "print(A.dot(B.T).shape)"
   ]
  },
  {
   "cell_type": "markdown",
   "metadata": {},
   "source": [
    "## Exercise 2\n",
    "\n",
    "Throw a dice (1..6) repeadetly and maintain the mean value of the \n",
    "numbers continously (and without explicitly storing the numbers or their sum) by\n",
    "computing a correction factor to the previous mean.\n",
    "\n",
    "Hint: mean(n) = sum(n) / n = (sum(n-1) + a(n)) / n = (mean(n-1) * (n-1) + a(n)) / n =\n",
    "mean(n-1) + (a(n) - mean(n-1)) / n\n",
    "\n",
    "Stop computation when correction factor stays below eps for b rounds or if you reach maxiter iterations.\n",
    "\n",
    "How does changing eps and b influence the number of iterations needed?"
   ]
  },
  {
   "cell_type": "code",
   "execution_count": 67,
   "metadata": {},
   "outputs": [
    {
     "name": "stdout",
     "output_type": "stream",
     "text": [
      "3.5025709868035153 250293 9.978061676747499e-06\n"
     ]
    }
   ],
   "source": [
    "eps = 0.00001\n",
    "b = 50\n",
    "maxiter = 1000000\n",
    "\n",
    "# YOUR CODE HERE\n"
   ]
  },
  {
   "cell_type": "code",
   "execution_count": 162,
   "metadata": {},
   "outputs": [],
   "source": [
    "eps = 0.00001\n",
    "b = 50\n",
    "maxiter = 1000000\n",
    "mean=1\n",
    "newMean=0\n",
    "timeTaken=0\n",
    "itr=0\n",
    "epsM=0\n",
    "for i in range(1,maxiter):\n",
    "    newMean = ((i-1)/i)*mean+(1/i)*np.random.randint(1,7)\n",
    "    \n",
    "    if(abs(newMean- mean) < eps):\n",
    "        timeTaken +=1\n",
    "        if(timeTaken >= b):\n",
    "            epsM=abs(newMean- mean)\n",
    "            itr=i\n",
    "            break\n",
    "        \n",
    "    else:\n",
    "        timeTaken =0\n",
    "    mean = newMean"
   ]
  },
  {
   "cell_type": "code",
   "execution_count": 163,
   "metadata": {},
   "outputs": [
    {
     "name": "stdout",
     "output_type": "stream",
     "text": [
      "3.5048695596640544\n",
      "250537\n",
      "6.006576112937978e-06\n"
     ]
    }
   ],
   "source": [
    "print(mean)\n",
    "print(itr)\n",
    "print(epsM)"
   ]
  },
  {
   "cell_type": "markdown",
   "metadata": {},
   "source": [
    "## Exercise 3\n",
    "\n",
    "Given transition matrix P and initial state t0 write \n",
    "an iterative algorithm to find the steady state.\n",
    "\n",
    "Stopping condition is that the norm (length of vector, use LA.norm) \n",
    "does not change more than eps in an iteration"
   ]
  },
  {
   "cell_type": "code",
   "execution_count": 12,
   "metadata": {},
   "outputs": [
    {
     "name": "stdout",
     "output_type": "stream",
     "text": [
      "13 iterations, diff is 0\n",
      "[0.31249999 0.140625   0.54687501]\n"
     ]
    }
   ],
   "source": [
    "maxiter = 10000\n",
    "eps = 0.0000001\n",
    "\n",
    "P = np.array(([0.2, 0.1, 0.7], [1.0, 0.0, 0.0], [0.2, 0.2, 0.6]))\n",
    "t0 = np.array([1.0, 0.0, 0.0])\n",
    "\n",
    "# YOUR CODE HERE\n"
   ]
  },
  {
   "cell_type": "code",
   "execution_count": 165,
   "metadata": {},
   "outputs": [
    {
     "name": "stdout",
     "output_type": "stream",
     "text": [
      "Iterations:  13  diff is  1.870303589779354e-08\n",
      "[0.31250005 0.14062499 0.54687496]\n"
     ]
    }
   ],
   "source": [
    "maxiter = 10000\n",
    "eps = 0.0000001\n",
    "\n",
    "P = np.array(([0.2, 0.1, 0.7], [1.0, 0.0, 0.0], [0.2, 0.2, 0.6]))\n",
    "t0 = np.array([1.0, 0.0, 0.0])\n",
    "\n",
    "newv=0\n",
    "oldv=P\n",
    "itr=0\n",
    "diff=0\n",
    "for i in range(maxiter):\n",
    "    newv = np.dot(t0, LA.matrix_power(P, i))\n",
    "    if(abs(LA.norm(oldv)-LA.norm(newv))<eps):\n",
    "        diff= abs(LA.norm(oldv)-LA.norm(newv))\n",
    "        itr = i\n",
    "        break\n",
    "    \n",
    "    oldv = newv\n",
    "print(\"Iterations: \",itr,\" diff is \",diff)\n",
    "print(newv)"
   ]
  },
  {
   "cell_type": "code",
   "execution_count": 145,
   "metadata": {},
   "outputs": [
    {
     "name": "stdout",
     "output_type": "stream",
     "text": [
      "[0.31250005 0.14062499 0.54687496]\n"
     ]
    }
   ],
   "source": [
    "print(np.dot(t0, LA.matrix_power(P, 13)))"
   ]
  },
  {
   "cell_type": "code",
   "execution_count": null,
   "metadata": {},
   "outputs": [],
   "source": []
  }
 ],
 "metadata": {
  "kernelspec": {
   "display_name": "Python 3",
   "language": "python",
   "name": "python3"
  },
  "language_info": {
   "codemirror_mode": {
    "name": "ipython",
    "version": 3
   },
   "file_extension": ".py",
   "mimetype": "text/x-python",
   "name": "python",
   "nbconvert_exporter": "python",
   "pygments_lexer": "ipython3",
   "version": "3.6.7"
  }
 },
 "nbformat": 4,
 "nbformat_minor": 2
}
