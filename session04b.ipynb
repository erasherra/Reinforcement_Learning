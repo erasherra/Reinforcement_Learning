{
 "cells": [
  {
   "cell_type": "markdown",
   "metadata": {},
   "source": [
    "# TX00DQ05-3001 Exercises 4"
   ]
  },
  {
   "cell_type": "code",
   "execution_count": 1,
   "metadata": {},
   "outputs": [],
   "source": [
    "import numpy as np\n",
    "import numpy.linalg as LA\n",
    "import random"
   ]
  },
  {
   "cell_type": "code",
   "execution_count": 2,
   "metadata": {},
   "outputs": [],
   "source": [
    "class Agent(object):\n",
    "    steps = 0\n",
    "    def __init__(self, startPos):\n",
    "        self.startPos = startPos\n",
    "        self.pos = startPos"
   ]
  },
  {
   "cell_type": "code",
   "execution_count": 86,
   "metadata": {},
   "outputs": [],
   "source": [
    "def calculateValueForCurrentState(value,stepcost):\n",
    "    #print(\"(\",stepcost,\"+\",value,\")*0.25 = \",((stepcost+(value))*0.25))\n",
    "    return ((stepcost+(value))*0.25)\n",
    "\n",
    "\n",
    "def checkWithBoundary(max,r,c,oR,oC):\n",
    "    \n",
    "    if 0 > r or max <= r or 0 > c or max <= c :\n",
    "        #print(oR,\",\",oC,\" value:\",V[oR,oC])\n",
    "        return (oR,oC)\n",
    "    else:\n",
    "        #print(r,\",\",c,\" value:\",V[r,c])\n",
    "        return (r,c)\n",
    "\n",
    "    \n",
    "    \n",
    "def Actions(val):\n",
    "    if val == 0:\n",
    "        return [1,0]\n",
    "    elif val == 1:\n",
    "        return [-1,0]\n",
    "    elif val == 2:\n",
    "        return [0,1]\n",
    "    elif val == 3:\n",
    "        return [0,-1]\n",
    "    \n",
    "\n",
    "def randomAction():\n",
    "    return Actions(random.randint(0,3))\n",
    "\n",
    "def makeAction(maxsize,r,c,windy=[]):\n",
    "    a = randomAction()\n",
    "    if not windy:\n",
    "        windyVal = 0\n",
    "    else:\n",
    "        windyVal = windy[c]\n",
    "        \n",
    "    return checkWithBoundary(maxsize,r+a[0],c+a[1]+windyVal,r,c)\n",
    "\n",
    "def checkIfInTerminatingPoint(pos,term):\n",
    "    for t in term:\n",
    "        if pos == t:\n",
    "            return True\n",
    "    return False"
   ]
  },
  {
   "cell_type": "code",
   "execution_count": 4,
   "metadata": {},
   "outputs": [],
   "source": [
    "def CreateGridWorld(gridsize,terminating = None,numberOfTerminating = None):\n",
    "    \n",
    "\n",
    "    if(terminating == None):\n",
    "        if(numberOfTerminating == 0 or numberOfTerminating == None):\n",
    "            numberOfTerminating = 1\n",
    "        terminating = []\n",
    "        for n in range(numberOfTerminating):\n",
    "            terminating.append((random.randint(0,gridsize[0]-1), \\\n",
    "                        random.randint(0,gridsize[1]-1)))\n",
    "        \n",
    "        \n",
    "    gridworld = np.zeros((gridsize[0], gridsize[1]))\n",
    "    \n",
    "    print(terminating)\n",
    "    print(gridworld)\n",
    "    return gridworld, terminating"
   ]
  },
  {
   "cell_type": "markdown",
   "metadata": {},
   "source": [
    "## Exercise 1: TD(0) value function estimation\n",
    "\n",
    "Implement value function estimation for Sutton & Barto example 4.1 with TD(0) algorithm."
   ]
  },
  {
   "cell_type": "code",
   "execution_count": 72,
   "metadata": {},
   "outputs": [],
   "source": [
    "# YOUR CODE\n",
    "\n",
    "def setRandomPosition(gridworld,terminating):\n",
    "    randomPos = (random.randint(0,gridworld.shape[0]-1),random.randint(0,gridworld.shape[0]-1))\n",
    "    if checkIfInTerminatingPoint(randomPos,terminating):\n",
    "        setRandomPosition(gridworld,terminating)\n",
    "    return randomPos  \n",
    "        \n",
    "def calculateStatesNewValue(lengths,agent,old_s,a=0.8,r=-1):\n",
    "    value = lengths[old_s] + a*(r + lengths[agent.pos] - lengths[old_s])\n",
    "    return value\n",
    "\n",
    "def TD(maxiters,gridworld,terminating,numberOfagents=1,randomPos=True,windy=[]):\n",
    "    \n",
    "    lengths= gridworld\n",
    "    agents =[]\n",
    "    \n",
    "    while(len(agents) < numberOfagents):\n",
    "        randomGenPos = (random.randint(0,lengths.shape[0]-1),random.randint(0,lengths.shape[0]-1))\n",
    "        x = randomGenPos[0]\n",
    "        y = randomGenPos[1]\n",
    "        if not checkIfInTerminatingPoint((x,y),terminating):\n",
    "            agents.append( Agent((x,y)) )\n",
    "    \n",
    "    for i in range(1, maxiters):\n",
    "\n",
    "\n",
    "        \n",
    "        for agent in agents:\n",
    "            old_state=(0,0)\n",
    "            old_value= 0\n",
    "            \n",
    "            if randomPos:\n",
    "                agent.pos = setRandomPosition(gridworld,terminating)\n",
    "            else:    \n",
    "                agent.pos = agent.startPos\n",
    "                \n",
    "            while(checkIfInTerminatingPoint(agent.pos,terminating)== False):\n",
    "                old_state = agent.pos\n",
    "                agent.pos = makeAction(lengths.shape[0],agent.pos[0],agent.pos[1],windy)\n",
    "                lengths[old_state] = calculateStatesNewValue(lengths,agent,old_state,)\n",
    "                agent.steps += 1 \n",
    "                \n",
    "                \n",
    "                   \n",
    "        #print() \n",
    "        #print(lengths)\n",
    "    return lengths\n",
    "\n"
   ]
  },
  {
   "cell_type": "code",
   "execution_count": 87,
   "metadata": {},
   "outputs": [
    {
     "name": "stdout",
     "output_type": "stream",
     "text": [
      "[(0, 0), (3, 3)]\n",
      "[[0. 0. 0. 0.]\n",
      " [0. 0. 0. 0.]\n",
      " [0. 0. 0. 0.]\n",
      " [0. 0. 0. 0.]]\n",
      "[[  0.    -2.88 -28.83 -32.8 ]\n",
      " [ -3.06 -12.35 -28.78 -15.6 ]\n",
      " [-23.17 -14.22  -8.78  -3.79]\n",
      " [-18.67 -13.   -24.03   0.  ]]\n"
     ]
    }
   ],
   "source": [
    "gridworld,terminating = CreateGridWorld((4,4),[(0,0),(3,3)],)\n",
    "with np.printoptions(precision=2):\n",
    "    print(TD(1000,gridworld,terminating,))"
   ]
  },
  {
   "cell_type": "markdown",
   "metadata": {},
   "source": [
    "## Exercise 2: Implement TD(0) control \n",
    "\n",
    "Solve Sutton & Barto example 4.1 with TD(0) control (Sarsa) algorithm. Apply the algorithm to the windy world of Sutton & Barto example 6.5. "
   ]
  },
  {
   "cell_type": "code",
   "execution_count": 154,
   "metadata": {},
   "outputs": [],
   "source": [
    "\n",
    "def generateWindyArray(size,strong,start,end):\n",
    "    \n",
    "    windyArray = []\n",
    "    \n",
    "    for i in range(size):\n",
    "        \n",
    "        if(i > start and i <= end):\n",
    "            windyArray.append(strong)\n",
    "        else:\n",
    "            windyArray.append(0)\n",
    "    return windyArray\n",
    "\n",
    "def makeGreedyAction(world,s,windy=[]):\n",
    "    new_s=(1,1)\n",
    "    v=(1,1)\n",
    "    if not windy:\n",
    "        windyVal = 0\n",
    "    else:\n",
    "        windyVal = windy[s[1]]\n",
    "        \n",
    "    for i in range(4):\n",
    "        \n",
    "        a=Actions(i) \n",
    "        #print(world.shape[0],s[0]+a[0],s[1]+a[1],s[0],s[1])\n",
    "        v=checkWithBoundary(world.shape[0],s[0]+a[0],s[1]+windyVal+a[1],s[0],s[1])\n",
    "        \n",
    "        if world[new_s] <= world[v]:\n",
    "            new_s = v\n",
    "    return new_s\n",
    "\n",
    "def epsilon_greedy_action(world,s,greedy=10,windy=[]):\n",
    "    \n",
    "    e = random.randint(0,100)\n",
    "    if e > greedy:\n",
    "        return makeGreedyAction(world,s,windy)\n",
    "    else:\n",
    "        return makeAction(world.shape[0],s[0],s[1],windy)\n",
    "    \n",
    "    \n",
    "     "
   ]
  },
  {
   "cell_type": "code",
   "execution_count": 82,
   "metadata": {},
   "outputs": [],
   "source": [
    "def TD_Sarsa_test(maxiters,gridworld,terminating,numberOfagents=1,randomPos=True,windy=[]):\n",
    "    \n",
    "    lengths= gridworld\n",
    "    agents =[]\n",
    "    \n",
    "    while(len(agents) < numberOfagents):\n",
    "        randomGenPos = (random.randint(0,lengths.shape[0]-1),random.randint(0,lengths.shape[0]-1))\n",
    "        x = randomGenPos[0]\n",
    "        y = randomGenPos[1]\n",
    "        if not checkIfInTerminatingPoint((x,y),terminating):\n",
    "            agents.append( Agent((x,y)) )\n",
    "    \n",
    "    for i in range(1, maxiters):\n",
    "\n",
    "\n",
    "        \n",
    "        for agent in agents:\n",
    "            old_state=(0,0)\n",
    "            old_value= 0\n",
    "            \n",
    "            if randomPos:\n",
    "                agent.pos = setRandomPosition(gridworld,terminating)\n",
    "            else:    \n",
    "                agent.pos = agent.startPos\n",
    "                \n",
    "            while(checkIfInTerminatingPoint(agent.pos,terminating)== False):\n",
    "                old_state = agent.pos\n",
    "                agent.pos = epsilon_greedy_action(lengths,old_state,windy=windy)\n",
    "                lengths[old_state] = calculateStatesNewValue(lengths,agent,old_state,)\n",
    "                agent.steps += 1 \n",
    "                \n",
    "                \n",
    "                   \n",
    "        #print() \n",
    "        #print(lengths)\n",
    "    return lengths\n"
   ]
  },
  {
   "cell_type": "code",
   "execution_count": 195,
   "metadata": {},
   "outputs": [
    {
     "name": "stdout",
     "output_type": "stream",
     "text": [
      "[(0, 0), (3, 3)]\n",
      "[[0. 0. 0. 0.]\n",
      " [0. 0. 0. 0.]\n",
      " [0. 0. 0. 0.]\n",
      " [0. 0. 0. 0.]]\n",
      "[0, 1, 0, 0]\n",
      "[[  0.   -22.18 -24.52 -16.93]\n",
      " [ -1.99 -25.09 -18.05 -12.52]\n",
      " [-11.17  -9.01  -8.69  -3.31]\n",
      " [ -5.06  -5.01 -16.65   0.  ]]\n",
      "\n",
      "[[ 0.   -4.02 -4.02 -4.28]\n",
      " [-1.   -3.   -3.33 -2.23]\n",
      " [-2.18 -2.15 -2.   -1.  ]\n",
      " [-2.   -1.   -1.    0.  ]]\n"
     ]
    }
   ],
   "source": [
    "gridworld,terminating = CreateGridWorld((4,4),[(0,0),(3,3)],)\n",
    "windy = generateWindyArray(gridworld.shape[0],1,0,1)\n",
    "print(windy)\n",
    "td=TD(1000,gridworld,terminating,1,randomPos=False,windy=windy)\n",
    "with np.printoptions(precision=2):\n",
    "    print(td)\n",
    "    print()\n",
    "    print(TD_Sarsa_test(100,gridworld,terminating,1,randomPos=True,windy=windy))"
   ]
  },
  {
   "cell_type": "code",
   "execution_count": 190,
   "metadata": {},
   "outputs": [],
   "source": [
    "def TD_Sarsa(maxiters,gridworld,terminating,numberOfagents=1,randomPos=True,windy=[],lam=1):\n",
    "    \n",
    "    lengths= gridworld\n",
    "    agents =[]\n",
    "    path,t = CreateGridWorld(lengths.shape,)\n",
    "    start=(0,0)\n",
    "    while(len(agents) < numberOfagents):\n",
    "        randomGenPos = (random.randint(0,lengths.shape[0]-1),random.randint(0,lengths.shape[0]-1))\n",
    "        x = randomGenPos[0]\n",
    "        y = randomGenPos[1]\n",
    "        if not checkIfInTerminatingPoint((x,y),terminating):\n",
    "            agents.append( Agent((x,y)) )\n",
    "    \n",
    "    for i in range(1, maxiters):\n",
    "\n",
    "\n",
    "        \n",
    "        for agent in agents:\n",
    "            \n",
    "            old_state=(0,0)\n",
    "            old_value= 0\n",
    "            \n",
    "            if randomPos:\n",
    "                agent.pos = setRandomPosition(gridworld,terminating)\n",
    "            else:    \n",
    "                agent.pos = agent.startPos\n",
    "            path[agent.pos] = -1\n",
    "            start=agent.pos\n",
    "            while(checkIfInTerminatingPoint(agent.pos,terminating)== False):\n",
    "                if agent.pos != start: \n",
    "                    path[agent.pos] += (1*(1-lam)*lam**agent.steps)+lam\n",
    "                else:\n",
    "                    path[agent.pos] -= 1\n",
    "                old_state = agent.pos\n",
    "                agent.pos = epsilon_greedy_action(lengths,old_state,windy=windy)\n",
    "                lengths[old_state] = calculateStatesNewValue(lengths,agent,old_state,)\n",
    "                agent.steps += 1 \n",
    "                \n",
    "                \n",
    "                   \n",
    "        #print() \n",
    "        #print(lengths)\n",
    "    return lengths,path"
   ]
  },
  {
   "cell_type": "code",
   "execution_count": 192,
   "metadata": {},
   "outputs": [
    {
     "name": "stdout",
     "output_type": "stream",
     "text": [
      "[(0, 0), (3, 3)]\n",
      "[[0. 0. 0. 0. 0. 0.]\n",
      " [0. 0. 0. 0. 0. 0.]\n",
      " [0. 0. 0. 0. 0. 0.]\n",
      " [0. 0. 0. 0. 0. 0.]\n",
      " [0. 0. 0. 0. 0. 0.]\n",
      " [0. 0. 0. 0. 0. 0.]]\n",
      "[0, 0, 1, 0, 0, 0]\n",
      "[(0, 0)]\n",
      "[[0. 0. 0. 0. 0. 0.]\n",
      " [0. 0. 0. 0. 0. 0.]\n",
      " [0. 0. 0. 0. 0. 0.]\n",
      " [0. 0. 0. 0. 0. 0.]\n",
      " [0. 0. 0. 0. 0. 0.]\n",
      " [0. 0. 0. 0. 0. 0.]]\n",
      "[[  0.     -2.494  -4.268 -47.392 -48.601 -47.072]\n",
      " [ -1.     -2.048 -11.996 -36.065 -32.126 -46.375]\n",
      " [ -5.867  -3.816  -1.123  -2.35  -40.55  -45.97 ]\n",
      " [-22.935 -11.688  -3.215   0.    -38.934 -33.019]\n",
      " [-24.132 -26.229 -21.996  -1.008  -4.28  -33.773]\n",
      " [-23.147 -18.738 -19.618 -11.929 -16.419 -29.067]]\n",
      "VALUES: \n",
      "[[  0.     -2.494  -4.268 -47.392 -48.601 -47.072]\n",
      " [ -1.     -2.048 -11.996 -36.065 -32.126 -46.375]\n",
      " [ -5.867  -3.816  -1.123  -2.35  -40.55  -45.97 ]\n",
      " [-22.935 -11.688  -3.215   0.    -38.934 -33.019]\n",
      " [-24.132 -26.229 -21.996  -1.008  -4.28  -33.773]\n",
      " [-23.147 -18.738 -19.618 -11.929 -16.419 -29.067]]\n",
      "PATH: \n",
      "[[ 0. 61.  2.  0.  0.  0.]\n",
      " [44. -2.  1.  0.  0.  0.]\n",
      " [ 1.  4.  3.  1.  0.  0.]\n",
      " [ 0.  1.  1.  0.  0.  0.]\n",
      " [ 0.  0.  0.  1.  0.  0.]\n",
      " [ 0.  0.  0.  0.  0.  0.]]\n"
     ]
    }
   ],
   "source": [
    "gridworld,terminating = CreateGridWorld((6,6),[(0,0),(3,3)],)\n",
    "windy = generateWindyArray(gridworld.shape[0],1,1,2)\n",
    "print(windy)\n",
    "td=TD(1000,gridworld,terminating,1,randomPos=True,windy=windy)\n",
    "s,p=TD_Sarsa(100,td,terminating,1,randomPos=False,windy=windy,lam=1)\n",
    "with np.printoptions(precision=3):\n",
    "    print(td)\n",
    "    print(\"VALUES: \")\n",
    "    print(s)\n",
    "    print(\"PATH: \")\n",
    "    np.set_printoptions(suppress=True)\n",
    "    x = np.array(p)\n",
    "    print(x)"
   ]
  },
  {
   "cell_type": "markdown",
   "metadata": {},
   "source": [
    "## Exercise 3*: Eligibility trace\n",
    "\n",
    "Do a random walk in example 4.1 gridworld, and create an eligibility trace from the walk.\n",
    "\n",
    "*) - not mandatory"
   ]
  },
  {
   "cell_type": "code",
   "execution_count": 178,
   "metadata": {},
   "outputs": [
    {
     "name": "stdout",
     "output_type": "stream",
     "text": [
      "[(0, 0)]\n",
      "[[0. 0. 0. 0. 0. 0. 0. 0.]\n",
      " [0. 0. 0. 0. 0. 0. 0. 0.]\n",
      " [0. 0. 0. 0. 0. 0. 0. 0.]\n",
      " [0. 0. 0. 0. 0. 0. 0. 0.]\n",
      " [0. 0. 0. 0. 0. 0. 0. 0.]\n",
      " [0. 0. 0. 0. 0. 0. 0. 0.]\n",
      " [0. 0. 0. 0. 0. 0. 0. 0.]\n",
      " [0. 0. 0. 0. 0. 0. 0. 0.]]\n"
     ]
    }
   ],
   "source": [
    "# YOUR CODE\n",
    "def eligibility_trace(maxiters,gridworld,terminating,numberOfagents=1,randomPos=True,maxSteps=10):\n",
    "    \n",
    "    lengths= gridworld\n",
    "    agents =[]\n",
    "    trace = 0\n",
    "    traces=[]\n",
    "    visitedTimes= 0\n",
    "    threshold =0\n",
    "    while(len(agents) < numberOfagents):\n",
    "        randomPos = (random.randint(0,lengths.shape[0]-1),random.randint(0,lengths.shape[0]-1))\n",
    "        x = randomPos[0]\n",
    "        y = randomPos[1]\n",
    "        if not checkIfInTerminatingPoint((x,y),terminating):\n",
    "            agents.append( Agent((x,y)) )\n",
    "    \n",
    "    for i in range(1, maxiters):\n",
    "\n",
    "\n",
    "        \n",
    "        for agent in agents:\n",
    "            old_state=(0,0)\n",
    "            old_value= 0\n",
    "            \n",
    "            if randomPos:\n",
    "                agent.pos = setRandomPosition(gridworld,terminating)\n",
    "            else:    \n",
    "                agent.pos = agent.startPos\n",
    "                \n",
    "            for step in range(maxSteps):\n",
    "                old_state = agent.pos\n",
    "                agent.pos = makeAction(lengths.shape[0],agent.pos[0],agent.pos[1])\n",
    "                lengths[old_state] = calculateStatesNewValue(lengths,agent,old_state,)\n",
    "                if(checkIfInTerminatingPoint(agent.pos,terminating)== True):\n",
    "                    trace +=1\n",
    "                    visitedTimes +=1\n",
    "                else:\n",
    "                    trace-=0.05\n",
    "                if(trace < threshold):\n",
    "                    trace =0\n",
    "                traces.append(trace)      \n",
    "                   \n",
    "        \n",
    "    return traces,visitedTimes\n",
    "\n",
    "gridworld,terminating = CreateGridWorld((8,8),[(0,0)],)\n",
    "et,vt = eligibility_trace(100,gridworld,terminating,1,randomPos=False)\n"
   ]
  },
  {
   "cell_type": "code",
   "execution_count": 179,
   "metadata": {
    "scrolled": true
   },
   "outputs": [
    {
     "name": "stdout",
     "output_type": "stream",
     "text": [
      "Times of visits to a state:  20\n"
     ]
    },
    {
     "data": {
      "image/png": "[encoded data removed]",
      "text/plain": [
       "<Figure size 432x288 with 1 Axes>"
      ]
     },
     "metadata": {
      "needs_background": "light"
     },
     "output_type": "display_data"
    }
   ],
   "source": [
    "import matplotlib.pyplot as plt\n",
    "print(\"Times of visits to a state: \", vt)\n",
    "plt.plot(et)\n",
    "plt.ylabel('some numbers')\n",
    "plt.show()"
   ]
  },
  {
   "cell_type": "markdown",
   "metadata": {},
   "source": [
    "## Exercise 4**: TD(lambda)\n",
    "\n",
    "Implement TD(lambda) algorithm and use it for solving example 6.5. Create a table/plot on the effect of lambda in the performance of the algorithm.\n",
    "\n",
    "*) - not mandatory"
   ]
  },
  {
   "cell_type": "code",
   "execution_count": 194,
   "metadata": {},
   "outputs": [
    {
     "name": "stdout",
     "output_type": "stream",
     "text": [
      "[(0, 0), (3, 3)]\n",
      "[[0. 0. 0. 0. 0. 0.]\n",
      " [0. 0. 0. 0. 0. 0.]\n",
      " [0. 0. 0. 0. 0. 0.]\n",
      " [0. 0. 0. 0. 0. 0.]\n",
      " [0. 0. 0. 0. 0. 0.]\n",
      " [0. 0. 0. 0. 0. 0.]]\n",
      "[0, 0, 2, 0, 0, 0]\n",
      "[(2, 1)]\n",
      "[[0. 0. 0. 0. 0. 0.]\n",
      " [0. 0. 0. 0. 0. 0.]\n",
      " [0. 0. 0. 0. 0. 0.]\n",
      " [0. 0. 0. 0. 0. 0.]\n",
      " [0. 0. 0. 0. 0. 0.]\n",
      " [0. 0. 0. 0. 0. 0.]]\n",
      "[[  0.     -1.06   -4.581 -13.387 -41.922 -21.108]\n",
      " [ -6.945 -26.053 -18.105 -22.81  -20.742 -31.211]\n",
      " [-16.719 -21.565 -21.     -8.634 -18.185 -29.433]\n",
      " [-24.548  -9.358  -1.006   0.    -20.095 -24.549]\n",
      " [-25.83  -25.474  -2.058  -1.     -6.551 -19.92 ]\n",
      " [-28.314 -42.373  -4.117  -2.006 -18.379 -33.97 ]]\n",
      "VALUES: \n",
      "[[  0.     -1.06   -4.581 -13.387 -41.922 -21.108]\n",
      " [ -6.945 -26.053 -18.105 -22.81  -20.742 -31.211]\n",
      " [-16.719 -21.565 -21.     -8.634 -18.185 -29.433]\n",
      " [-24.548  -9.358  -1.006   0.    -20.095 -24.549]\n",
      " [-25.83  -25.474  -2.058  -1.     -6.551 -19.92 ]\n",
      " [-28.314 -42.373  -4.117  -2.006 -18.379 -33.97 ]]\n",
      "PATH: \n",
      "[[ 0.     0.     0.     0.     0.     0.   ]\n",
      " [ 0.     0.     0.     0.     0.     0.   ]\n",
      " [ 0.     0.     0.     0.     0.     0.   ]\n",
      " [ 0.     0.     2.701  0.     0.     0.   ]\n",
      " [ 0.     0.     4.501 92.244  4.592  0.   ]\n",
      " [ 0.     0.     2.701 -2.     1.812  0.   ]]\n"
     ]
    }
   ],
   "source": [
    "gridworld,terminating = CreateGridWorld((6,6),[(0,0),(3,3)],)\n",
    "windy = generateWindyArray(gridworld.shape[0],2,1,2)\n",
    "print(windy)\n",
    "td=TD(1000,gridworld,terminating,1,randomPos=True,windy=None)\n",
    "s,p=TD_Sarsa(100,td,terminating,1,randomPos=False,windy=None,lam=0.9)\n",
    "with np.printoptions(precision=3):\n",
    "    print(td)\n",
    "    print(\"VALUES: \")\n",
    "    print(s)\n",
    "    print(\"PATH: \")\n",
    "    np.set_printoptions(suppress=True)\n",
    "    x = np.array(p)\n",
    "    print(x) "
   ]
  },
  {
   "cell_type": "code",
   "execution_count": null,
   "metadata": {},
   "outputs": [],
   "source": []
  }
 ],
 "metadata": {
  "kernelspec": {
   "display_name": "Python 3",
   "language": "python",
   "name": "python3"
  },
  "language_info": {
   "codemirror_mode": {
    "name": "ipython",
    "version": 3
   },
   "file_extension": ".py",
   "mimetype": "text/x-python",
   "name": "python",
   "nbconvert_exporter": "python",
   "pygments_lexer": "ipython3",
   "version": "3.6.7"
  }
 },
 "nbformat": 4,
 "nbformat_minor": 2
}
