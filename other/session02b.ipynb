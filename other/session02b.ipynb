{
 "cells": [
  {
   "cell_type": "markdown",
   "metadata": {},
   "source": [
    "# TX00DQ05-3001 Exercises 2\n",
    "\n",
    "Note that you don't have to use the functions / other code in the cells below. They are there just in case you need inspiration to get started."
   ]
  },
  {
   "cell_type": "code",
   "execution_count": null,
   "metadata": {},
   "outputs": [],
   "source": [
    "import numpy as np\n",
    "print(np.__version__)\n",
    "import numpy.linalg as LA"
   ]
  },
  {
   "cell_type": "markdown",
   "metadata": {},
   "source": [
    "## Exercise 1: Iterative policy evaluation. \n",
    "\n",
    "Calculate state-value function V for the gridworld of Sutton & Barto example 4.1. Policy is assumed to be random, ie. each of the four directions are equally likely. Movement that would result in leaving the grid (for example moving up in top row) will leave state unchanged (but action has been taken). Gamma (discount factor) is assumed to be = 1, ie. no discounting.\n",
    "\n",
    "When norm of the difference between new V and the old one is less than eps, stop iteration.\n",
    "\n",
    "Compare needed number of iterations between synchronous (sweep over all states, and update value function after the sweep) and asynchronous (use always the latest values) update of state-value function.\n",
    "\n",
    "Note that numpy tensor assignment does not create a copy. You might want to use .copy() method to avoid sharing a reference to the same array."
   ]
  },
  {
   "cell_type": "code",
   "execution_count": null,
   "metadata": {},
   "outputs": [],
   "source": [
    "rows_count = 4\n",
    "columns_count = 4\n",
    "V = np.zeros((rows_count, columns_count))\n",
    "V_new = np.zeros((rows_count, columns_count))\n",
    "terminating = [(0,0), (rows_count-1, columns_count-1)]\n",
    "stepcost = -1\n",
    "\n",
    "maxiters = 1000\n",
    "eps = 0.0000001\n",
    "\n",
    "def valueFor(row, column, direction):\n",
    "# YOUR CODE HERE\n",
    "    return V[r, c]\n",
    "\n",
    "for i in range(maxiters):\n",
    "# YOUR CODE HERE\n",
    "\n",
    "print(\"iteration\", i)\n",
    "with np.printoptions(precision=3):\n",
    "    print(V)"
   ]
  },
  {
   "cell_type": "markdown",
   "metadata": {},
   "source": [
    "## Exercise 2: Greedy policy. \n",
    "\n",
    "Based on the state-value function computed in exercise 1, print out deterministic greedy policy function. Is the policy generated also optimal one?"
   ]
  },
  {
   "cell_type": "code",
   "execution_count": null,
   "metadata": {},
   "outputs": [],
   "source": [
    "# YOUR CODE HERE\n"
   ]
  },
  {
   "cell_type": "markdown",
   "metadata": {},
   "source": [
    "## Exercise 3: Value function and policy in modified gridworld.\n",
    "\n",
    "Change the definition of the exercise 1 gridworld by assigning a cost of -8 to movement in \"up\" direction. Compute the value function and greedy policy based on the value function. Is the greedy policy optimal?"
   ]
  },
  {
   "cell_type": "code",
   "execution_count": null,
   "metadata": {},
   "outputs": [],
   "source": [
    "# YOUR CODE HERE\n"
   ]
  },
  {
   "cell_type": "markdown",
   "metadata": {},
   "source": [
    "## Extra exercise: Policy iteration\n",
    "\n",
    "Implement policy iteration, ie. create a policy with the help of the value function from previous policy and iterate until policy is stable."
   ]
  },
  {
   "cell_type": "code",
   "execution_count": null,
   "metadata": {},
   "outputs": [],
   "source": [
    "# YOUR CODE HERE\n"
   ]
  },
  {
   "cell_type": "markdown",
   "metadata": {},
   "source": [
    "## Exercise 4: Value iteration\n",
    "\n",
    "Solve the exercise 1 gridworld with value iteration algorithm. Solve also modified gridworld (cost of \"up\" movement = -4)."
   ]
  },
  {
   "cell_type": "code",
   "execution_count": null,
   "metadata": {},
   "outputs": [],
   "source": [
    "# value iteration\n",
    "\n",
    "theta = 0.0001\n",
    "maxiters = 10\n",
    "V = np.zeros((rows_count,columns_count))\n",
    "directions = [\"up\", \"down\", \"left\", \"right\"]\n",
    "\n",
    "# YOUR CODE HERE\n",
    "\n",
    "with np.printoptions(precision=3):\n",
    "    print(V)\n",
    "    \n",
    "for row in range(rows_count):\n",
    "    for column in range(columns_count):\n",
    "        if not (row, column) in terminating:\n",
    "# YOUR CODE HERE"
   ]
  },
  {
   "cell_type": "code",
   "execution_count": null,
   "metadata": {},
   "outputs": [],
   "source": []
  }
 ],
 "metadata": {
  "kernelspec": {
   "display_name": "Python 3",
   "language": "python",
   "name": "python3"
  },
  "language_info": {
   "codemirror_mode": {
    "name": "ipython",
    "version": 3
   },
   "file_extension": ".py",
   "mimetype": "text/x-python",
   "name": "python",
   "nbconvert_exporter": "python",
   "pygments_lexer": "ipython3",
   "version": "3.6.7"
  }
 },
 "nbformat": 4,
 "nbformat_minor": 2
}
