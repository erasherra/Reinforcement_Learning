{
 "cells": [
  {
   "cell_type": "markdown",
   "metadata": {},
   "source": [
    "# TX00DQ05-3001 Exercises 4"
   ]
  },
  {
   "cell_type": "code",
   "execution_count": 3,
   "metadata": {},
   "outputs": [],
   "source": [
    "import numpy as np\n",
    "import numpy.linalg as LA\n",
    "import random"
   ]
  },
  {
   "cell_type": "code",
   "execution_count": 22,
   "metadata": {},
   "outputs": [],
   "source": [
    "class Agent(object):\n",
    "    steps = 0\n",
    "    def __init__(self, startPos):\n",
    "        self.startPos = startPos\n",
    "        self.pos = startPos"
   ]
  },
  {
   "cell_type": "code",
   "execution_count": 115,
   "metadata": {},
   "outputs": [],
   "source": [
    "def calculateValueForCurrentState(value,stepcost):\n",
    "    #print(\"(\",stepcost,\"+\",value,\")*0.25 = \",((stepcost+(value))*0.25))\n",
    "    return ((stepcost+(value))*0.25)\n",
    "\n",
    "\n",
    "def checkWithBoundary(max,r,c,oR,oC):\n",
    "    \n",
    "    if 0 > r or max <= r or 0 > c or max <= c :\n",
    "        #print(oR,\",\",oC,\" value:\",V[oR,oC])\n",
    "        return (oR,oC)\n",
    "    else:\n",
    "        #print(r,\",\",c,\" value:\",V[r,c])\n",
    "        return (r,c)\n",
    "\n",
    "    \n",
    "    \n",
    "def Actions(val):\n",
    "    if val == 0:\n",
    "        return [1,0]\n",
    "    elif val == 1:\n",
    "        return [-1,0]\n",
    "    elif val == 2:\n",
    "        return [0,1]\n",
    "    elif val == 3:\n",
    "        return [0,-1]\n",
    "    \n",
    "\n",
    "def randomAction():\n",
    "    return Actions(random.randint(0,3))\n",
    "\n",
    "def makeAction(maxsize,r,c):\n",
    "    a = randomAction()\n",
    "    \n",
    "    \n",
    "    return checkWithBoundary(maxsize,r+a[0],c+a[1],r,c)\n",
    "\n",
    "def checkIfInTerminatingPoint(pos,term):\n",
    "    for t in term:\n",
    "        if pos == t:\n",
    "            return True\n",
    "    return False"
   ]
  },
  {
   "cell_type": "code",
   "execution_count": 6,
   "metadata": {},
   "outputs": [],
   "source": [
    "def CreateGridWorld(gridsize,terminating = None,numberOfTerminating = None):\n",
    "    \n",
    "\n",
    "    if(terminating == None):\n",
    "        if(numberOfTerminating == 0 or numberOfTerminating == None):\n",
    "            numberOfTerminating = 1\n",
    "        terminating = []\n",
    "        for n in range(numberOfTerminating):\n",
    "            terminating.append((random.randint(0,gridsize[0]-1), \\\n",
    "                        random.randint(0,gridsize[1]-1)))\n",
    "        \n",
    "        \n",
    "    gridworld = np.zeros((gridsize[0], gridsize[1]))\n",
    "    \n",
    "    print(terminating)\n",
    "    print(gridworld)\n",
    "    return gridworld, terminating"
   ]
  },
  {
   "cell_type": "markdown",
   "metadata": {},
   "source": [
    "## Exercise 1: TD(0) value function estimation\n",
    "\n",
    "Implement value function estimation for Sutton & Barto example 4.1 with TD(0) algorithm."
   ]
  },
  {
   "cell_type": "code",
   "execution_count": 116,
   "metadata": {},
   "outputs": [],
   "source": [
    "# YOUR CODE\n",
    "\n",
    "def setRandomPosition(gridworld,terminating):\n",
    "    randomPos = (random.randint(0,gridworld.shape[0]-1),random.randint(0,gridworld.shape[0]-1))\n",
    "    if checkIfInTerminatingPoint(randomPos,terminating):\n",
    "        setRandomPosition(gridworld,terminating)\n",
    "    return randomPos  \n",
    "        \n",
    "def calculateStatesNewValue(lengths,agent,old_s,a=0.8,r=-1):\n",
    "    value = lengths[old_s] + a*(r + lengths[agent.pos] - lengths[old_s])\n",
    "    return value\n",
    "\n",
    "def TD(maxiters,gridworld,terminating,numberOfagents=1,randomPos=True):\n",
    "    \n",
    "    lengths= gridworld\n",
    "    agents =[]\n",
    "    \n",
    "    while(len(agents) < numberOfagents):\n",
    "        randomPos = (random.randint(0,lengths.shape[0]-1),random.randint(0,lengths.shape[0]-1))\n",
    "        x = randomPos[0]\n",
    "        y = randomPos[1]\n",
    "        if not checkIfInTerminatingPoint((x,y),terminating):\n",
    "            agents.append( Agent((x,y)) )\n",
    "    \n",
    "    for i in range(1, maxiters):\n",
    "\n",
    "\n",
    "        \n",
    "        for agent in agents:\n",
    "            old_state=(0,0)\n",
    "            old_value= 0\n",
    "            \n",
    "            if randomPos:\n",
    "                agent.pos = setRandomPosition(gridworld,terminating)\n",
    "            else:    \n",
    "                agent.pos = agent.startPos\n",
    "                \n",
    "            while(checkIfInTerminatingPoint(agent.pos,terminating)== False):\n",
    "                old_state = agent.pos\n",
    "                agent.pos = makeAction(lengths.shape[0],agent.pos[0],agent.pos[1])\n",
    "                lengths[old_state] = calculateStatesNewValue(lengths,agent,old_state,)\n",
    "                agent.steps += 1 \n",
    "                \n",
    "                \n",
    "                   \n",
    "        #print() \n",
    "        #print(lengths)\n",
    "    return lengths\n",
    "\n"
   ]
  },
  {
   "cell_type": "code",
   "execution_count": 117,
   "metadata": {},
   "outputs": [
    {
     "name": "stdout",
     "output_type": "stream",
     "text": [
      "[(0, 0), (3, 3)]\n",
      "[[0. 0. 0. 0.]\n",
      " [0. 0. 0. 0.]\n",
      " [0. 0. 0. 0.]\n",
      " [0. 0. 0. 0.]]\n",
      "[[  0.   -10.25 -15.26 -10.42]\n",
      " [ -5.07 -18.51 -18.48 -19.01]\n",
      " [-29.58 -24.27 -16.28  -1.88]\n",
      " [-11.61 -14.08  -3.97   0.  ]]\n"
     ]
    }
   ],
   "source": [
    "gridworld,terminating = CreateGridWorld((4,4),[(0,0),(3,3)],)\n",
    "with np.printoptions(precision=2):\n",
    "    print(TD(1000,gridworld,terminating,))"
   ]
  },
  {
   "cell_type": "markdown",
   "metadata": {},
   "source": [
    "## Exercise 2: Implement TD(0) control \n",
    "\n",
    "Solve Sutton & Barto example 4.1 with TD(0) control (Sarsa) algorithm. Apply the algorithm to the windy world of Sutton & Barto example 6.5. "
   ]
  },
  {
   "cell_type": "code",
   "execution_count": 138,
   "metadata": {},
   "outputs": [],
   "source": [
    "\n",
    "def makeGreedyAction(world,s):\n",
    "    new_s=(1,1)\n",
    "    v=(1,1)\n",
    "\n",
    "    for i in range(4):\n",
    "        \n",
    "        a=Actions(i) \n",
    "        #print(world.shape[0],s[0]+a[0],s[1]+a[1],s[0],s[1])\n",
    "        v=checkWithBoundary(world.shape[0],s[0]+a[0],s[1]+a[1],s[0],s[1])\n",
    "        \n",
    "        if world[new_s] >= world[v]:\n",
    "            new_s = v\n",
    "    return new_s\n",
    "\n",
    "def epsilon_greedy_action(world,s,greedy=10):\n",
    "    \n",
    "    e = random.randint(0,100)\n",
    "    if e > greedy:\n",
    "        return makeGreedyAction(world,s)\n",
    "    else:\n",
    "        return makeAction(world.shape[0],s[0],s[1])\n",
    "    \n",
    "    \n",
    "     "
   ]
  },
  {
   "cell_type": "code",
   "execution_count": 139,
   "metadata": {},
   "outputs": [],
   "source": [
    "def TD_Sarsa(maxiters,gridworld,terminating,numberOfagents=1,randomPos=True):\n",
    "    \n",
    "    lengths= gridworld\n",
    "    agents =[]\n",
    "    \n",
    "    while(len(agents) < numberOfagents):\n",
    "        randomPos = (random.randint(0,lengths.shape[0]-1),random.randint(0,lengths.shape[0]-1))\n",
    "        x = randomPos[0]\n",
    "        y = randomPos[1]\n",
    "        if not checkIfInTerminatingPoint((x,y),terminating):\n",
    "            agents.append( Agent((x,y)) )\n",
    "    \n",
    "    for i in range(1, maxiters):\n",
    "\n",
    "\n",
    "        \n",
    "        for agent in agents:\n",
    "            old_state=(0,0)\n",
    "            old_value= 0\n",
    "            \n",
    "            if randomPos:\n",
    "                agent.pos = setRandomPosition(gridworld,terminating)\n",
    "            else:    \n",
    "                agent.pos = agent.startPos\n",
    "                \n",
    "            while(checkIfInTerminatingPoint(agent.pos,terminating)== False):\n",
    "                old_state = agent.pos\n",
    "                agent.pos = epsilon_greedy_action(lengths,old_state)\n",
    "                lengths[old_state] = calculateStatesNewValue(lengths,agent,old_state,)\n",
    "                agent.steps += 1 \n",
    "                \n",
    "                \n",
    "                   \n",
    "        #print() \n",
    "        #print(lengths)\n",
    "    return lengths\n"
   ]
  },
  {
   "cell_type": "code",
   "execution_count": 145,
   "metadata": {},
   "outputs": [
    {
     "name": "stdout",
     "output_type": "stream",
     "text": [
      "[(0, 0), (3, 3)]\n",
      "[[0. 0. 0. 0.]\n",
      " [0. 0. 0. 0.]\n",
      " [0. 0. 0. 0.]\n",
      " [0. 0. 0. 0.]]\n",
      "[[   0.   -194.19 -206.15 -167.72]\n",
      " [ -54.42 -226.71 -150.65 -228.86]\n",
      " [-268.78 -238.69 -278.63 -197.4 ]\n",
      " [-259.71 -170.5   -53.64    0.  ]]\n"
     ]
    }
   ],
   "source": [
    "gridworld,terminating = CreateGridWorld((4,4),[(0,0),(3,3)],)\n",
    "with np.printoptions(precision=2):\n",
    "    print(TD_Sarsa(1000,gridworld,terminating,3,randomPos=False))"
   ]
  },
  {
   "cell_type": "markdown",
   "metadata": {},
   "source": [
    "## Exercise 3*: Eligibility trace\n",
    "\n",
    "Do a random walk in example 4.1 gridworld, and create an eligibility trace from the walk.\n",
    "\n",
    "*) - not mandatory"
   ]
  },
  {
   "cell_type": "code",
   "execution_count": 237,
   "metadata": {},
   "outputs": [
    {
     "name": "stdout",
     "output_type": "stream",
     "text": [
      "[(0, 0)]\n",
      "[[0. 0. 0. 0.]\n",
      " [0. 0. 0. 0.]\n",
      " [0. 0. 0. 0.]\n",
      " [0. 0. 0. 0.]]\n"
     ]
    }
   ],
   "source": [
    "# YOUR CODE\n",
    "def eligibility_trace(maxiters,gridworld,terminating,numberOfagents=1,randomPos=True,maxSteps=10):\n",
    "    \n",
    "    lengths= gridworld\n",
    "    agents =[]\n",
    "    trace = 0\n",
    "    traces=[]\n",
    "    visitedTimes= 0\n",
    "    threshold =0\n",
    "    while(len(agents) < numberOfagents):\n",
    "        randomPos = (random.randint(0,lengths.shape[0]-1),random.randint(0,lengths.shape[0]-1))\n",
    "        x = randomPos[0]\n",
    "        y = randomPos[1]\n",
    "        if not checkIfInTerminatingPoint((x,y),terminating):\n",
    "            agents.append( Agent((x,y)) )\n",
    "    \n",
    "    for i in range(1, maxiters):\n",
    "\n",
    "\n",
    "        \n",
    "        for agent in agents:\n",
    "            old_state=(0,0)\n",
    "            old_value= 0\n",
    "            \n",
    "            if randomPos:\n",
    "                agent.pos = setRandomPosition(gridworld,terminating)\n",
    "            else:    \n",
    "                agent.pos = agent.startPos\n",
    "                \n",
    "            for step in range(maxSteps):\n",
    "                old_state = agent.pos\n",
    "                agent.pos = makeAction(lengths.shape[0],agent.pos[0],agent.pos[1])\n",
    "                lengths[old_state] = calculateStatesNewValue(lengths,agent,old_state,)\n",
    "                if(checkIfInTerminatingPoint(agent.pos,terminating)== True):\n",
    "                    trace +=1\n",
    "                    visitedTimes +=1\n",
    "                else:\n",
    "                    trace-=0.05\n",
    "                if(trace < threshold):\n",
    "                    trace =0\n",
    "                traces.append(trace)      \n",
    "                   \n",
    "        \n",
    "    return traces,visitedTimes\n",
    "\n",
    "gridworld,terminating = CreateGridWorld((4,4),[(0,0)],)\n",
    "et,vt = eligibility_trace(100,gridworld,terminating,1,randomPos=True)\n"
   ]
  },
  {
   "cell_type": "code",
   "execution_count": 238,
   "metadata": {
    "scrolled": true
   },
   "outputs": [
    {
     "name": "stdout",
     "output_type": "stream",
     "text": [
      "Times of visits to a state:  38\n"
     ]
    },
    {
     "data": {
      "image/png": "[encoded data removed]",
      "text/plain": [
       "<Figure size 432x288 with 1 Axes>"
      ]
     },
     "metadata": {
      "needs_background": "light"
     },
     "output_type": "display_data"
    }
   ],
   "source": [
    "import matplotlib.pyplot as plt\n",
    "print(\"Times of visits to a state: \", vt)\n",
    "plt.plot(et)\n",
    "plt.ylabel('some numbers')\n",
    "plt.show()"
   ]
  },
  {
   "cell_type": "markdown",
   "metadata": {},
   "source": [
    "## Exercise 4**: TD(lambda)\n",
    "\n",
    "Implement TD(lambda) algorithm and use it for solving example 6.5. Create a table/plot on the effect of lambda in the performance of the algorithm.\n",
    "\n",
    "*) - not mandatory"
   ]
  },
  {
   "cell_type": "code",
   "execution_count": 5,
   "metadata": {},
   "outputs": [],
   "source": [
    "# YOUR CODE\n"
   ]
  }
 ],
 "metadata": {
  "kernelspec": {
   "display_name": "Python 3",
   "language": "python",
   "name": "python3"
  },
  "language_info": {
   "codemirror_mode": {
    "name": "ipython",
    "version": 3
   },
   "file_extension": ".py",
   "mimetype": "text/x-python",
   "name": "python",
   "nbconvert_exporter": "python",
   "pygments_lexer": "ipython3",
   "version": "3.6.7"
  }
 },
 "nbformat": 4,
 "nbformat_minor": 2
}
